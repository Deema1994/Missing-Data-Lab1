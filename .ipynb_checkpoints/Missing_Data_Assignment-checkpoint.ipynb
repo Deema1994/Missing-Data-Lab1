{
 "cells": [
  {
   "cell_type": "markdown",
   "metadata": {},
   "source": [
    "### Import your libraries"
   ]
  },
  {
   "cell_type": "code",
   "execution_count": 1,
   "metadata": {},
   "outputs": [],
   "source": [
    "\n",
    "import numpy as np\n",
    "import pandas as pd\n",
    "import matplotlib.pyplot as plt\n",
    "import seaborn as sns\n",
    "import plotly.express as px\n",
    "from datetime import datetime\n"
   ]
  },
  {
   "cell_type": "markdown",
   "metadata": {},
   "source": [
    "### Load your dataset"
   ]
  },
  {
   "cell_type": "code",
   "execution_count": 2,
   "metadata": {},
   "outputs": [],
   "source": [
    "df = pd.read_csv('HR_Missing_Values.csv')"
   ]
  },
  {
   "cell_type": "markdown",
   "metadata": {},
   "source": [
    "### Explore your data \n",
    "\n",
    "* First 5 recods\n",
    "* Last 5 records \n",
    "* Check data type\n",
    "* Show statistical summary \n",
    "* Is there any missing values ?\n",
    "* Applay two more data analysis from your choose "
   ]
  },
  {
   "cell_type": "code",
   "execution_count": 3,
   "metadata": {
    "scrolled": true
   },
   "outputs": [
    {
     "data": {
      "text/html": [
       "<div>\n",
       "<style scoped>\n",
       "    .dataframe tbody tr th:only-of-type {\n",
       "        vertical-align: middle;\n",
       "    }\n",
       "\n",
       "    .dataframe tbody tr th {\n",
       "        vertical-align: top;\n",
       "    }\n",
       "\n",
       "    .dataframe thead th {\n",
       "        text-align: right;\n",
       "    }\n",
       "</style>\n",
       "<table border=\"1\" class=\"dataframe\">\n",
       "  <thead>\n",
       "    <tr style=\"text-align: right;\">\n",
       "      <th></th>\n",
       "      <th>Employee_Name</th>\n",
       "      <th>EmpID</th>\n",
       "      <th>Salary</th>\n",
       "      <th>PositionID</th>\n",
       "      <th>Position</th>\n",
       "      <th>DOB</th>\n",
       "      <th>Sex</th>\n",
       "      <th>MaritalDesc</th>\n",
       "      <th>RaceDesc</th>\n",
       "      <th>DateofHire</th>\n",
       "      <th>DateofTermination</th>\n",
       "      <th>Department</th>\n",
       "      <th>ManagerName</th>\n",
       "      <th>ManagerID</th>\n",
       "      <th>RecruitmentSource</th>\n",
       "      <th>Absences</th>\n",
       "    </tr>\n",
       "  </thead>\n",
       "  <tbody>\n",
       "    <tr>\n",
       "      <th>0</th>\n",
       "      <td>Adinolfi, Wilson  K</td>\n",
       "      <td>10026</td>\n",
       "      <td>62506.0</td>\n",
       "      <td>19</td>\n",
       "      <td>Production Technician I</td>\n",
       "      <td>07/10/83</td>\n",
       "      <td>M</td>\n",
       "      <td>Single</td>\n",
       "      <td>White</td>\n",
       "      <td>7/5/2011</td>\n",
       "      <td>NaN</td>\n",
       "      <td>Production</td>\n",
       "      <td>Michael Albert</td>\n",
       "      <td>22.0</td>\n",
       "      <td>LinkedIn</td>\n",
       "      <td>1.0</td>\n",
       "    </tr>\n",
       "    <tr>\n",
       "      <th>1</th>\n",
       "      <td>Ait Sidi, Karthikeyan</td>\n",
       "      <td>10084</td>\n",
       "      <td>104437.0</td>\n",
       "      <td>27</td>\n",
       "      <td>Sr. DBA</td>\n",
       "      <td>05/05/75</td>\n",
       "      <td>M</td>\n",
       "      <td>Married</td>\n",
       "      <td>White</td>\n",
       "      <td>3/30/2015</td>\n",
       "      <td>6/16/2016</td>\n",
       "      <td>IT/IS</td>\n",
       "      <td>Simon Roup</td>\n",
       "      <td>4.0</td>\n",
       "      <td>Indeed</td>\n",
       "      <td>17.0</td>\n",
       "    </tr>\n",
       "    <tr>\n",
       "      <th>2</th>\n",
       "      <td>Akinkuolie, Sarah</td>\n",
       "      <td>10196</td>\n",
       "      <td>64955.0</td>\n",
       "      <td>20</td>\n",
       "      <td>Production Technician II</td>\n",
       "      <td>09/19/88</td>\n",
       "      <td>F</td>\n",
       "      <td>Married</td>\n",
       "      <td>White</td>\n",
       "      <td>7/5/2011</td>\n",
       "      <td>9/24/2012</td>\n",
       "      <td>Production</td>\n",
       "      <td>Kissy Sullivan</td>\n",
       "      <td>20.0</td>\n",
       "      <td>LinkedIn</td>\n",
       "      <td>3.0</td>\n",
       "    </tr>\n",
       "    <tr>\n",
       "      <th>3</th>\n",
       "      <td>Alagbe,Trina</td>\n",
       "      <td>10088</td>\n",
       "      <td>64991.0</td>\n",
       "      <td>19</td>\n",
       "      <td>Production Technician I</td>\n",
       "      <td>NaN</td>\n",
       "      <td>F</td>\n",
       "      <td>Married</td>\n",
       "      <td>White</td>\n",
       "      <td>1/7/2008</td>\n",
       "      <td>NaN</td>\n",
       "      <td>Production</td>\n",
       "      <td>Elijiah Gray</td>\n",
       "      <td>16.0</td>\n",
       "      <td>Indeed</td>\n",
       "      <td>15.0</td>\n",
       "    </tr>\n",
       "    <tr>\n",
       "      <th>4</th>\n",
       "      <td>NaN</td>\n",
       "      <td>10069</td>\n",
       "      <td>50825.0</td>\n",
       "      <td>19</td>\n",
       "      <td>Production Technician I</td>\n",
       "      <td>09/08/89</td>\n",
       "      <td>F</td>\n",
       "      <td>Divorced</td>\n",
       "      <td>White</td>\n",
       "      <td>7/11/2011</td>\n",
       "      <td>9/6/2016</td>\n",
       "      <td>Production</td>\n",
       "      <td>Webster Butler</td>\n",
       "      <td>39.0</td>\n",
       "      <td>Google Search</td>\n",
       "      <td>2.0</td>\n",
       "    </tr>\n",
       "  </tbody>\n",
       "</table>\n",
       "</div>"
      ],
      "text/plain": [
       "              Employee_Name  EmpID    Salary  PositionID  \\\n",
       "0       Adinolfi, Wilson  K  10026   62506.0          19   \n",
       "1  Ait Sidi, Karthikeyan     10084  104437.0          27   \n",
       "2         Akinkuolie, Sarah  10196   64955.0          20   \n",
       "3              Alagbe,Trina  10088   64991.0          19   \n",
       "4                       NaN  10069   50825.0          19   \n",
       "\n",
       "                   Position       DOB Sex MaritalDesc RaceDesc DateofHire  \\\n",
       "0   Production Technician I  07/10/83  M       Single    White   7/5/2011   \n",
       "1                   Sr. DBA  05/05/75  M      Married    White  3/30/2015   \n",
       "2  Production Technician II  09/19/88   F     Married    White   7/5/2011   \n",
       "3   Production Technician I       NaN   F     Married    White   1/7/2008   \n",
       "4   Production Technician I  09/08/89   F    Divorced    White  7/11/2011   \n",
       "\n",
       "  DateofTermination         Department     ManagerName  ManagerID  \\\n",
       "0               NaN  Production         Michael Albert       22.0   \n",
       "1         6/16/2016              IT/IS      Simon Roup        4.0   \n",
       "2         9/24/2012  Production         Kissy Sullivan       20.0   \n",
       "3               NaN  Production           Elijiah Gray       16.0   \n",
       "4          9/6/2016  Production         Webster Butler       39.0   \n",
       "\n",
       "  RecruitmentSource  Absences  \n",
       "0          LinkedIn       1.0  \n",
       "1            Indeed      17.0  \n",
       "2          LinkedIn       3.0  \n",
       "3            Indeed      15.0  \n",
       "4     Google Search       2.0  "
      ]
     },
     "execution_count": 3,
     "metadata": {},
     "output_type": "execute_result"
    }
   ],
   "source": [
    "df.head(5)\n"
   ]
  },
  {
   "cell_type": "code",
   "execution_count": 4,
   "metadata": {},
   "outputs": [
    {
     "data": {
      "text/html": [
       "<div>\n",
       "<style scoped>\n",
       "    .dataframe tbody tr th:only-of-type {\n",
       "        vertical-align: middle;\n",
       "    }\n",
       "\n",
       "    .dataframe tbody tr th {\n",
       "        vertical-align: top;\n",
       "    }\n",
       "\n",
       "    .dataframe thead th {\n",
       "        text-align: right;\n",
       "    }\n",
       "</style>\n",
       "<table border=\"1\" class=\"dataframe\">\n",
       "  <thead>\n",
       "    <tr style=\"text-align: right;\">\n",
       "      <th></th>\n",
       "      <th>Employee_Name</th>\n",
       "      <th>EmpID</th>\n",
       "      <th>Salary</th>\n",
       "      <th>PositionID</th>\n",
       "      <th>Position</th>\n",
       "      <th>DOB</th>\n",
       "      <th>Sex</th>\n",
       "      <th>MaritalDesc</th>\n",
       "      <th>RaceDesc</th>\n",
       "      <th>DateofHire</th>\n",
       "      <th>DateofTermination</th>\n",
       "      <th>Department</th>\n",
       "      <th>ManagerName</th>\n",
       "      <th>ManagerID</th>\n",
       "      <th>RecruitmentSource</th>\n",
       "      <th>Absences</th>\n",
       "    </tr>\n",
       "  </thead>\n",
       "  <tbody>\n",
       "    <tr>\n",
       "      <th>306</th>\n",
       "      <td>Woodson, Jason</td>\n",
       "      <td>10135</td>\n",
       "      <td>65893.0</td>\n",
       "      <td>20</td>\n",
       "      <td>Production Technician II</td>\n",
       "      <td>05/11/85</td>\n",
       "      <td>M</td>\n",
       "      <td>Single</td>\n",
       "      <td>White</td>\n",
       "      <td>7/7/2014</td>\n",
       "      <td>NaN</td>\n",
       "      <td>Production</td>\n",
       "      <td>Kissy Sullivan</td>\n",
       "      <td>20.0</td>\n",
       "      <td>LinkedIn</td>\n",
       "      <td>13.0</td>\n",
       "    </tr>\n",
       "    <tr>\n",
       "      <th>307</th>\n",
       "      <td>Ybarra, Catherine</td>\n",
       "      <td>10301</td>\n",
       "      <td>48513.0</td>\n",
       "      <td>19</td>\n",
       "      <td>Production Technician I</td>\n",
       "      <td>NaN</td>\n",
       "      <td>F</td>\n",
       "      <td>Single</td>\n",
       "      <td>Asian</td>\n",
       "      <td>9/2/2008</td>\n",
       "      <td>9/29/2015</td>\n",
       "      <td>Production</td>\n",
       "      <td>Brannon Miller</td>\n",
       "      <td>12.0</td>\n",
       "      <td>Google Search</td>\n",
       "      <td>4.0</td>\n",
       "    </tr>\n",
       "    <tr>\n",
       "      <th>308</th>\n",
       "      <td>NaN</td>\n",
       "      <td>10010</td>\n",
       "      <td>220450.0</td>\n",
       "      <td>6</td>\n",
       "      <td>CIO</td>\n",
       "      <td>NaN</td>\n",
       "      <td>F</td>\n",
       "      <td>Single</td>\n",
       "      <td>White</td>\n",
       "      <td>4/10/2010</td>\n",
       "      <td>NaN</td>\n",
       "      <td>IT/IS</td>\n",
       "      <td>Janet King</td>\n",
       "      <td>2.0</td>\n",
       "      <td>Employee Referral</td>\n",
       "      <td>16.0</td>\n",
       "    </tr>\n",
       "    <tr>\n",
       "      <th>309</th>\n",
       "      <td>Zhou, Julia</td>\n",
       "      <td>10043</td>\n",
       "      <td>89292.0</td>\n",
       "      <td>9</td>\n",
       "      <td>Data Analyst</td>\n",
       "      <td>02/24/79</td>\n",
       "      <td>F</td>\n",
       "      <td>Single</td>\n",
       "      <td>White</td>\n",
       "      <td>3/30/2015</td>\n",
       "      <td>NaN</td>\n",
       "      <td>IT/IS</td>\n",
       "      <td>Simon Roup</td>\n",
       "      <td>4.0</td>\n",
       "      <td>Employee Referral</td>\n",
       "      <td>NaN</td>\n",
       "    </tr>\n",
       "    <tr>\n",
       "      <th>310</th>\n",
       "      <td>NaN</td>\n",
       "      <td>10271</td>\n",
       "      <td>45046.0</td>\n",
       "      <td>19</td>\n",
       "      <td>Production Technician I</td>\n",
       "      <td>08/17/78</td>\n",
       "      <td>F</td>\n",
       "      <td>Widowed</td>\n",
       "      <td>Asian</td>\n",
       "      <td>9/29/2014</td>\n",
       "      <td>NaN</td>\n",
       "      <td>Production</td>\n",
       "      <td>David Stanley</td>\n",
       "      <td>14.0</td>\n",
       "      <td>LinkedIn</td>\n",
       "      <td>2.0</td>\n",
       "    </tr>\n",
       "  </tbody>\n",
       "</table>\n",
       "</div>"
      ],
      "text/plain": [
       "          Employee_Name  EmpID    Salary  PositionID  \\\n",
       "306      Woodson, Jason  10135   65893.0          20   \n",
       "307  Ybarra, Catherine   10301   48513.0          19   \n",
       "308                 NaN  10010  220450.0           6   \n",
       "309         Zhou, Julia  10043   89292.0           9   \n",
       "310                 NaN  10271   45046.0          19   \n",
       "\n",
       "                     Position       DOB Sex MaritalDesc RaceDesc DateofHire  \\\n",
       "306  Production Technician II  05/11/85  M       Single    White   7/7/2014   \n",
       "307   Production Technician I       NaN   F      Single    Asian   9/2/2008   \n",
       "308                       CIO       NaN   F      Single    White  4/10/2010   \n",
       "309              Data Analyst  02/24/79   F      Single    White  3/30/2015   \n",
       "310   Production Technician I  08/17/78   F     Widowed    Asian  9/29/2014   \n",
       "\n",
       "    DateofTermination         Department     ManagerName  ManagerID  \\\n",
       "306               NaN  Production         Kissy Sullivan       20.0   \n",
       "307         9/29/2015  Production         Brannon Miller       12.0   \n",
       "308               NaN              IT/IS      Janet King        2.0   \n",
       "309               NaN              IT/IS      Simon Roup        4.0   \n",
       "310               NaN  Production          David Stanley       14.0   \n",
       "\n",
       "     RecruitmentSource  Absences  \n",
       "306           LinkedIn      13.0  \n",
       "307      Google Search       4.0  \n",
       "308  Employee Referral      16.0  \n",
       "309  Employee Referral       NaN  \n",
       "310           LinkedIn       2.0  "
      ]
     },
     "execution_count": 4,
     "metadata": {},
     "output_type": "execute_result"
    }
   ],
   "source": [
    "df.tail(5)\n"
   ]
  },
  {
   "cell_type": "code",
   "execution_count": 5,
   "metadata": {},
   "outputs": [
    {
     "data": {
      "text/plain": [
       "Employee_Name         object\n",
       "EmpID                  int64\n",
       "Salary               float64\n",
       "PositionID             int64\n",
       "Position              object\n",
       "DOB                   object\n",
       "Sex                   object\n",
       "MaritalDesc           object\n",
       "RaceDesc              object\n",
       "DateofHire            object\n",
       "DateofTermination     object\n",
       "Department            object\n",
       "ManagerName           object\n",
       "ManagerID            float64\n",
       "RecruitmentSource     object\n",
       "Absences             float64\n",
       "dtype: object"
      ]
     },
     "execution_count": 5,
     "metadata": {},
     "output_type": "execute_result"
    }
   ],
   "source": [
    "df.dtypes"
   ]
  },
  {
   "cell_type": "code",
   "execution_count": 6,
   "metadata": {},
   "outputs": [
    {
     "data": {
      "text/html": [
       "<div>\n",
       "<style scoped>\n",
       "    .dataframe tbody tr th:only-of-type {\n",
       "        vertical-align: middle;\n",
       "    }\n",
       "\n",
       "    .dataframe tbody tr th {\n",
       "        vertical-align: top;\n",
       "    }\n",
       "\n",
       "    .dataframe thead th {\n",
       "        text-align: right;\n",
       "    }\n",
       "</style>\n",
       "<table border=\"1\" class=\"dataframe\">\n",
       "  <thead>\n",
       "    <tr style=\"text-align: right;\">\n",
       "      <th></th>\n",
       "      <th>EmpID</th>\n",
       "      <th>Salary</th>\n",
       "      <th>PositionID</th>\n",
       "      <th>ManagerID</th>\n",
       "      <th>Absences</th>\n",
       "    </tr>\n",
       "  </thead>\n",
       "  <tbody>\n",
       "    <tr>\n",
       "      <th>count</th>\n",
       "      <td>311.000000</td>\n",
       "      <td>249.000000</td>\n",
       "      <td>311.000000</td>\n",
       "      <td>303.000000</td>\n",
       "      <td>280.000000</td>\n",
       "    </tr>\n",
       "    <tr>\n",
       "      <th>mean</th>\n",
       "      <td>10156.000000</td>\n",
       "      <td>67972.662651</td>\n",
       "      <td>16.845659</td>\n",
       "      <td>14.570957</td>\n",
       "      <td>10.128571</td>\n",
       "    </tr>\n",
       "    <tr>\n",
       "      <th>std</th>\n",
       "      <td>89.922189</td>\n",
       "      <td>22995.908395</td>\n",
       "      <td>6.223419</td>\n",
       "      <td>8.078306</td>\n",
       "      <td>5.946407</td>\n",
       "    </tr>\n",
       "    <tr>\n",
       "      <th>min</th>\n",
       "      <td>10001.000000</td>\n",
       "      <td>45046.000000</td>\n",
       "      <td>1.000000</td>\n",
       "      <td>1.000000</td>\n",
       "      <td>1.000000</td>\n",
       "    </tr>\n",
       "    <tr>\n",
       "      <th>25%</th>\n",
       "      <td>10078.500000</td>\n",
       "      <td>55315.000000</td>\n",
       "      <td>18.000000</td>\n",
       "      <td>10.000000</td>\n",
       "      <td>4.750000</td>\n",
       "    </tr>\n",
       "    <tr>\n",
       "      <th>50%</th>\n",
       "      <td>10156.000000</td>\n",
       "      <td>62957.000000</td>\n",
       "      <td>19.000000</td>\n",
       "      <td>15.000000</td>\n",
       "      <td>10.000000</td>\n",
       "    </tr>\n",
       "    <tr>\n",
       "      <th>75%</th>\n",
       "      <td>10233.500000</td>\n",
       "      <td>71707.000000</td>\n",
       "      <td>20.000000</td>\n",
       "      <td>19.000000</td>\n",
       "      <td>15.250000</td>\n",
       "    </tr>\n",
       "    <tr>\n",
       "      <th>max</th>\n",
       "      <td>10311.000000</td>\n",
       "      <td>220450.000000</td>\n",
       "      <td>30.000000</td>\n",
       "      <td>39.000000</td>\n",
       "      <td>20.000000</td>\n",
       "    </tr>\n",
       "  </tbody>\n",
       "</table>\n",
       "</div>"
      ],
      "text/plain": [
       "              EmpID         Salary  PositionID   ManagerID    Absences\n",
       "count    311.000000     249.000000  311.000000  303.000000  280.000000\n",
       "mean   10156.000000   67972.662651   16.845659   14.570957   10.128571\n",
       "std       89.922189   22995.908395    6.223419    8.078306    5.946407\n",
       "min    10001.000000   45046.000000    1.000000    1.000000    1.000000\n",
       "25%    10078.500000   55315.000000   18.000000   10.000000    4.750000\n",
       "50%    10156.000000   62957.000000   19.000000   15.000000   10.000000\n",
       "75%    10233.500000   71707.000000   20.000000   19.000000   15.250000\n",
       "max    10311.000000  220450.000000   30.000000   39.000000   20.000000"
      ]
     },
     "execution_count": 6,
     "metadata": {},
     "output_type": "execute_result"
    }
   ],
   "source": [
    "df.describe()"
   ]
  },
  {
   "cell_type": "code",
   "execution_count": 7,
   "metadata": {},
   "outputs": [
    {
     "data": {
      "text/plain": [
       "Employee_Name         93\n",
       "EmpID                  0\n",
       "Salary                62\n",
       "PositionID             0\n",
       "Position               0\n",
       "DOB                   31\n",
       "Sex                   62\n",
       "MaritalDesc            0\n",
       "RaceDesc               0\n",
       "DateofHire             0\n",
       "DateofTermination    207\n",
       "Department             0\n",
       "ManagerName            0\n",
       "ManagerID              8\n",
       "RecruitmentSource      0\n",
       "Absences              31\n",
       "dtype: int64"
      ]
     },
     "execution_count": 7,
     "metadata": {},
     "output_type": "execute_result"
    }
   ],
   "source": [
    "df.isnull().sum()"
   ]
  },
  {
   "cell_type": "code",
   "execution_count": 8,
   "metadata": {},
   "outputs": [
    {
     "data": {
      "text/plain": [
       "<bound method DataFrame.info of                 Employee_Name  EmpID    Salary  PositionID  \\\n",
       "0         Adinolfi, Wilson  K  10026   62506.0          19   \n",
       "1    Ait Sidi, Karthikeyan     10084  104437.0          27   \n",
       "2           Akinkuolie, Sarah  10196   64955.0          20   \n",
       "3                Alagbe,Trina  10088   64991.0          19   \n",
       "4                         NaN  10069   50825.0          19   \n",
       "..                        ...    ...       ...         ...   \n",
       "306            Woodson, Jason  10135   65893.0          20   \n",
       "307        Ybarra, Catherine   10301   48513.0          19   \n",
       "308                       NaN  10010  220450.0           6   \n",
       "309               Zhou, Julia  10043   89292.0           9   \n",
       "310                       NaN  10271   45046.0          19   \n",
       "\n",
       "                     Position       DOB Sex MaritalDesc RaceDesc DateofHire  \\\n",
       "0     Production Technician I  07/10/83  M       Single    White   7/5/2011   \n",
       "1                     Sr. DBA  05/05/75  M      Married    White  3/30/2015   \n",
       "2    Production Technician II  09/19/88   F     Married    White   7/5/2011   \n",
       "3     Production Technician I       NaN   F     Married    White   1/7/2008   \n",
       "4     Production Technician I  09/08/89   F    Divorced    White  7/11/2011   \n",
       "..                        ...       ...  ..         ...      ...        ...   \n",
       "306  Production Technician II  05/11/85  M       Single    White   7/7/2014   \n",
       "307   Production Technician I       NaN   F      Single    Asian   9/2/2008   \n",
       "308                       CIO       NaN   F      Single    White  4/10/2010   \n",
       "309              Data Analyst  02/24/79   F      Single    White  3/30/2015   \n",
       "310   Production Technician I  08/17/78   F     Widowed    Asian  9/29/2014   \n",
       "\n",
       "    DateofTermination         Department     ManagerName  ManagerID  \\\n",
       "0                 NaN  Production         Michael Albert       22.0   \n",
       "1           6/16/2016              IT/IS      Simon Roup        4.0   \n",
       "2           9/24/2012  Production         Kissy Sullivan       20.0   \n",
       "3                 NaN  Production           Elijiah Gray       16.0   \n",
       "4            9/6/2016  Production         Webster Butler       39.0   \n",
       "..                ...                ...             ...        ...   \n",
       "306               NaN  Production         Kissy Sullivan       20.0   \n",
       "307         9/29/2015  Production         Brannon Miller       12.0   \n",
       "308               NaN              IT/IS      Janet King        2.0   \n",
       "309               NaN              IT/IS      Simon Roup        4.0   \n",
       "310               NaN  Production          David Stanley       14.0   \n",
       "\n",
       "     RecruitmentSource  Absences  \n",
       "0             LinkedIn       1.0  \n",
       "1               Indeed      17.0  \n",
       "2             LinkedIn       3.0  \n",
       "3               Indeed      15.0  \n",
       "4        Google Search       2.0  \n",
       "..                 ...       ...  \n",
       "306           LinkedIn      13.0  \n",
       "307      Google Search       4.0  \n",
       "308  Employee Referral      16.0  \n",
       "309  Employee Referral       NaN  \n",
       "310           LinkedIn       2.0  \n",
       "\n",
       "[311 rows x 16 columns]>"
      ]
     },
     "execution_count": 8,
     "metadata": {},
     "output_type": "execute_result"
    }
   ],
   "source": [
    "df.info"
   ]
  },
  {
   "cell_type": "code",
   "execution_count": 9,
   "metadata": {},
   "outputs": [
    {
     "data": {
      "text/plain": [
       "(311, 16)"
      ]
     },
     "execution_count": 9,
     "metadata": {},
     "output_type": "execute_result"
    }
   ],
   "source": [
    "df.shape"
   ]
  },
  {
   "cell_type": "markdown",
   "metadata": {},
   "source": [
    "### Do the following steps for each column with missing values.\n",
    "\n",
    "* Identity the column \n",
    "* How much precentage the missing value represents \n",
    "* What is the best way to handle these missing values and why\n",
    "* Apply your method to the column"
   ]
  },
  {
   "cell_type": "code",
   "execution_count": 10,
   "metadata": {},
   "outputs": [
    {
     "data": {
      "text/plain": [
       "EmpID                  0\n",
       "PositionID             0\n",
       "Position               0\n",
       "MaritalDesc            0\n",
       "RaceDesc               0\n",
       "DateofHire             0\n",
       "Department             0\n",
       "ManagerName            0\n",
       "RecruitmentSource      0\n",
       "ManagerID              8\n",
       "DOB                   31\n",
       "Absences              31\n",
       "Salary                62\n",
       "Sex                   62\n",
       "Employee_Name         93\n",
       "DateofTermination    207\n",
       "dtype: int64"
      ]
     },
     "execution_count": 10,
     "metadata": {},
     "output_type": "execute_result"
    }
   ],
   "source": [
    "df.isnull().sum().sort_values()"
   ]
  },
  {
   "cell_type": "code",
   "execution_count": 11,
   "metadata": {
    "scrolled": true
   },
   "outputs": [
    {
     "data": {
      "image/png": "[encoded data removed]",
      "text/plain": [
       "<Figure size 432x288 with 1 Axes>"
      ]
     },
     "metadata": {
      "needs_background": "light"
     },
     "output_type": "display_data"
    }
   ],
   "source": [
    "df.isnull().sum().sort_values().plot(kind=\"barh\", title=\"Missing Data\")\n",
    "plt.show()"
   ]
  },
  {
   "cell_type": "code",
   "execution_count": 12,
   "metadata": {},
   "outputs": [
    {
     "data": {
      "text/html": [
       "<div>\n",
       "<style scoped>\n",
       "    .dataframe tbody tr th:only-of-type {\n",
       "        vertical-align: middle;\n",
       "    }\n",
       "\n",
       "    .dataframe tbody tr th {\n",
       "        vertical-align: top;\n",
       "    }\n",
       "\n",
       "    .dataframe thead th {\n",
       "        text-align: right;\n",
       "    }\n",
       "</style>\n",
       "<table border=\"1\" class=\"dataframe\">\n",
       "  <thead>\n",
       "    <tr style=\"text-align: right;\">\n",
       "      <th></th>\n",
       "      <th>column_name</th>\n",
       "      <th>percent_missing</th>\n",
       "    </tr>\n",
       "  </thead>\n",
       "  <tbody>\n",
       "    <tr>\n",
       "      <th>Employee_Name</th>\n",
       "      <td>Employee_Name</td>\n",
       "      <td>29.903537</td>\n",
       "    </tr>\n",
       "    <tr>\n",
       "      <th>EmpID</th>\n",
       "      <td>EmpID</td>\n",
       "      <td>0.000000</td>\n",
       "    </tr>\n",
       "    <tr>\n",
       "      <th>Salary</th>\n",
       "      <td>Salary</td>\n",
       "      <td>19.935691</td>\n",
       "    </tr>\n",
       "    <tr>\n",
       "      <th>PositionID</th>\n",
       "      <td>PositionID</td>\n",
       "      <td>0.000000</td>\n",
       "    </tr>\n",
       "    <tr>\n",
       "      <th>Position</th>\n",
       "      <td>Position</td>\n",
       "      <td>0.000000</td>\n",
       "    </tr>\n",
       "    <tr>\n",
       "      <th>DOB</th>\n",
       "      <td>DOB</td>\n",
       "      <td>9.967846</td>\n",
       "    </tr>\n",
       "    <tr>\n",
       "      <th>Sex</th>\n",
       "      <td>Sex</td>\n",
       "      <td>19.935691</td>\n",
       "    </tr>\n",
       "    <tr>\n",
       "      <th>MaritalDesc</th>\n",
       "      <td>MaritalDesc</td>\n",
       "      <td>0.000000</td>\n",
       "    </tr>\n",
       "    <tr>\n",
       "      <th>RaceDesc</th>\n",
       "      <td>RaceDesc</td>\n",
       "      <td>0.000000</td>\n",
       "    </tr>\n",
       "    <tr>\n",
       "      <th>DateofHire</th>\n",
       "      <td>DateofHire</td>\n",
       "      <td>0.000000</td>\n",
       "    </tr>\n",
       "    <tr>\n",
       "      <th>DateofTermination</th>\n",
       "      <td>DateofTermination</td>\n",
       "      <td>66.559486</td>\n",
       "    </tr>\n",
       "    <tr>\n",
       "      <th>Department</th>\n",
       "      <td>Department</td>\n",
       "      <td>0.000000</td>\n",
       "    </tr>\n",
       "    <tr>\n",
       "      <th>ManagerName</th>\n",
       "      <td>ManagerName</td>\n",
       "      <td>0.000000</td>\n",
       "    </tr>\n",
       "    <tr>\n",
       "      <th>ManagerID</th>\n",
       "      <td>ManagerID</td>\n",
       "      <td>2.572347</td>\n",
       "    </tr>\n",
       "    <tr>\n",
       "      <th>RecruitmentSource</th>\n",
       "      <td>RecruitmentSource</td>\n",
       "      <td>0.000000</td>\n",
       "    </tr>\n",
       "    <tr>\n",
       "      <th>Absences</th>\n",
       "      <td>Absences</td>\n",
       "      <td>9.967846</td>\n",
       "    </tr>\n",
       "  </tbody>\n",
       "</table>\n",
       "</div>"
      ],
      "text/plain": [
       "                         column_name  percent_missing\n",
       "Employee_Name          Employee_Name        29.903537\n",
       "EmpID                          EmpID         0.000000\n",
       "Salary                        Salary        19.935691\n",
       "PositionID                PositionID         0.000000\n",
       "Position                    Position         0.000000\n",
       "DOB                              DOB         9.967846\n",
       "Sex                              Sex        19.935691\n",
       "MaritalDesc              MaritalDesc         0.000000\n",
       "RaceDesc                    RaceDesc         0.000000\n",
       "DateofHire                DateofHire         0.000000\n",
       "DateofTermination  DateofTermination        66.559486\n",
       "Department                Department         0.000000\n",
       "ManagerName              ManagerName         0.000000\n",
       "ManagerID                  ManagerID         2.572347\n",
       "RecruitmentSource  RecruitmentSource         0.000000\n",
       "Absences                    Absences         9.967846"
      ]
     },
     "execution_count": 12,
     "metadata": {},
     "output_type": "execute_result"
    }
   ],
   "source": [
    "percent_missing = df.isnull().sum() * 100 / len(df)  ## How much precentage the missing value represents\n",
    "missing_value_df = pd.DataFrame({'column_name': df.columns,\n",
    "                                 'percent_missing': percent_missing})\n",
    "missing_value_df\n"
   ]
  },
  {
   "cell_type": "markdown",
   "metadata": {},
   "source": [
    "# DateofTermination    "
   ]
  },
  {
   "cell_type": "code",
   "execution_count": 13,
   "metadata": {},
   "outputs": [],
   "source": [
    "# data of termination date exist when employee is resigned , so the nan valus mean the employee is active \n",
    "# the slotion is to leave the nan as it is "
   ]
  },
  {
   "cell_type": "markdown",
   "metadata": {},
   "source": [
    "# Employee_Name"
   ]
  },
  {
   "cell_type": "code",
   "execution_count": 14,
   "metadata": {},
   "outputs": [],
   "source": [
    "# we cann't fill the employee name because the employee name is unique\n",
    "# the solution is to drop the column becaues we have the employee id \n",
    "df = df.drop(\"Employee_Name\", axis=1)"
   ]
  },
  {
   "cell_type": "markdown",
   "metadata": {},
   "source": [
    "# Sex"
   ]
  },
  {
   "cell_type": "code",
   "execution_count": 15,
   "metadata": {},
   "outputs": [],
   "source": [
    "df = df.astype({'Sex':'string'}) # convert Sex from object to string "
   ]
  },
  {
   "cell_type": "code",
   "execution_count": 16,
   "metadata": {},
   "outputs": [
    {
     "data": {
      "text/plain": [
       "EmpID                  int64\n",
       "Salary               float64\n",
       "PositionID             int64\n",
       "Position              object\n",
       "DOB                   object\n",
       "Sex                   string\n",
       "MaritalDesc           object\n",
       "RaceDesc              object\n",
       "DateofHire            object\n",
       "DateofTermination     object\n",
       "Department            object\n",
       "ManagerName           object\n",
       "ManagerID            float64\n",
       "RecruitmentSource     object\n",
       "Absences             float64\n",
       "dtype: object"
      ]
     },
     "execution_count": 16,
     "metadata": {},
     "output_type": "execute_result"
    }
   ],
   "source": [
    "df.dtypes"
   ]
  },
  {
   "cell_type": "code",
   "execution_count": 17,
   "metadata": {
    "scrolled": true
   },
   "outputs": [
    {
     "data": {
      "text/html": [
       "<div>\n",
       "<style scoped>\n",
       "    .dataframe tbody tr th:only-of-type {\n",
       "        vertical-align: middle;\n",
       "    }\n",
       "\n",
       "    .dataframe tbody tr th {\n",
       "        vertical-align: top;\n",
       "    }\n",
       "\n",
       "    .dataframe thead th {\n",
       "        text-align: right;\n",
       "    }\n",
       "</style>\n",
       "<table border=\"1\" class=\"dataframe\">\n",
       "  <thead>\n",
       "    <tr style=\"text-align: right;\">\n",
       "      <th></th>\n",
       "      <th>Sex</th>\n",
       "      <th>Department</th>\n",
       "      <th>counts</th>\n",
       "    </tr>\n",
       "  </thead>\n",
       "  <tbody>\n",
       "    <tr>\n",
       "      <th>0</th>\n",
       "      <td>F</td>\n",
       "      <td>Admin Offices</td>\n",
       "      <td>6</td>\n",
       "    </tr>\n",
       "    <tr>\n",
       "      <th>1</th>\n",
       "      <td>F</td>\n",
       "      <td>Executive Office</td>\n",
       "      <td>1</td>\n",
       "    </tr>\n",
       "    <tr>\n",
       "      <th>2</th>\n",
       "      <td>F</td>\n",
       "      <td>IT/IS</td>\n",
       "      <td>15</td>\n",
       "    </tr>\n",
       "    <tr>\n",
       "      <th>3</th>\n",
       "      <td>F</td>\n",
       "      <td>Production</td>\n",
       "      <td>102</td>\n",
       "    </tr>\n",
       "    <tr>\n",
       "      <th>4</th>\n",
       "      <td>F</td>\n",
       "      <td>Sales</td>\n",
       "      <td>11</td>\n",
       "    </tr>\n",
       "    <tr>\n",
       "      <th>5</th>\n",
       "      <td>F</td>\n",
       "      <td>Software Engineering</td>\n",
       "      <td>6</td>\n",
       "    </tr>\n",
       "    <tr>\n",
       "      <th>6</th>\n",
       "      <td>M</td>\n",
       "      <td>Admin Offices</td>\n",
       "      <td>3</td>\n",
       "    </tr>\n",
       "    <tr>\n",
       "      <th>7</th>\n",
       "      <td>M</td>\n",
       "      <td>IT/IS</td>\n",
       "      <td>24</td>\n",
       "    </tr>\n",
       "    <tr>\n",
       "      <th>8</th>\n",
       "      <td>M</td>\n",
       "      <td>Production</td>\n",
       "      <td>67</td>\n",
       "    </tr>\n",
       "    <tr>\n",
       "      <th>9</th>\n",
       "      <td>M</td>\n",
       "      <td>Sales</td>\n",
       "      <td>10</td>\n",
       "    </tr>\n",
       "    <tr>\n",
       "      <th>10</th>\n",
       "      <td>M</td>\n",
       "      <td>Software Engineering</td>\n",
       "      <td>4</td>\n",
       "    </tr>\n",
       "  </tbody>\n",
       "</table>\n",
       "</div>"
      ],
      "text/plain": [
       "   Sex            Department  counts\n",
       "0    F         Admin Offices       6\n",
       "1    F      Executive Office       1\n",
       "2    F                 IT/IS      15\n",
       "3    F     Production            102\n",
       "4    F                 Sales      11\n",
       "5    F  Software Engineering       6\n",
       "6   M          Admin Offices       3\n",
       "7   M                  IT/IS      24\n",
       "8   M      Production             67\n",
       "9   M                  Sales      10\n",
       "10  M   Software Engineering       4"
      ]
     },
     "execution_count": 17,
     "metadata": {},
     "output_type": "execute_result"
    }
   ],
   "source": [
    "df3 = df.groupby(['Sex','Department']).size().reset_index(name='counts')\n",
    "df3\n",
    "## this way is not usefull\n"
   ]
  },
  {
   "cell_type": "code",
   "execution_count": 18,
   "metadata": {},
   "outputs": [
    {
     "data": {
      "text/html": [
       "<div>\n",
       "<style scoped>\n",
       "    .dataframe tbody tr th:only-of-type {\n",
       "        vertical-align: middle;\n",
       "    }\n",
       "\n",
       "    .dataframe tbody tr th {\n",
       "        vertical-align: top;\n",
       "    }\n",
       "\n",
       "    .dataframe thead th {\n",
       "        text-align: right;\n",
       "    }\n",
       "</style>\n",
       "<table border=\"1\" class=\"dataframe\">\n",
       "  <thead>\n",
       "    <tr style=\"text-align: right;\">\n",
       "      <th></th>\n",
       "      <th>EmpID</th>\n",
       "      <th>Salary</th>\n",
       "      <th>PositionID</th>\n",
       "      <th>Position</th>\n",
       "      <th>DOB</th>\n",
       "      <th>MaritalDesc</th>\n",
       "      <th>RaceDesc</th>\n",
       "      <th>DateofHire</th>\n",
       "      <th>DateofTermination</th>\n",
       "      <th>Department</th>\n",
       "      <th>ManagerName</th>\n",
       "      <th>ManagerID</th>\n",
       "      <th>RecruitmentSource</th>\n",
       "      <th>Absences</th>\n",
       "    </tr>\n",
       "    <tr>\n",
       "      <th>Sex</th>\n",
       "      <th></th>\n",
       "      <th></th>\n",
       "      <th></th>\n",
       "      <th></th>\n",
       "      <th></th>\n",
       "      <th></th>\n",
       "      <th></th>\n",
       "      <th></th>\n",
       "      <th></th>\n",
       "      <th></th>\n",
       "      <th></th>\n",
       "      <th></th>\n",
       "      <th></th>\n",
       "      <th></th>\n",
       "    </tr>\n",
       "  </thead>\n",
       "  <tbody>\n",
       "    <tr>\n",
       "      <th>F</th>\n",
       "      <td>141</td>\n",
       "      <td>115</td>\n",
       "      <td>141</td>\n",
       "      <td>141</td>\n",
       "      <td>125</td>\n",
       "      <td>141</td>\n",
       "      <td>141</td>\n",
       "      <td>141</td>\n",
       "      <td>45</td>\n",
       "      <td>141</td>\n",
       "      <td>141</td>\n",
       "      <td>136</td>\n",
       "      <td>141</td>\n",
       "      <td>128</td>\n",
       "    </tr>\n",
       "    <tr>\n",
       "      <th>M</th>\n",
       "      <td>108</td>\n",
       "      <td>79</td>\n",
       "      <td>108</td>\n",
       "      <td>108</td>\n",
       "      <td>98</td>\n",
       "      <td>108</td>\n",
       "      <td>108</td>\n",
       "      <td>108</td>\n",
       "      <td>37</td>\n",
       "      <td>108</td>\n",
       "      <td>108</td>\n",
       "      <td>106</td>\n",
       "      <td>108</td>\n",
       "      <td>96</td>\n",
       "    </tr>\n",
       "  </tbody>\n",
       "</table>\n",
       "</div>"
      ],
      "text/plain": [
       "     EmpID  Salary  PositionID  Position  DOB  MaritalDesc  RaceDesc  \\\n",
       "Sex                                                                    \n",
       "F      141     115         141       141  125          141       141   \n",
       "M      108      79         108       108   98          108       108   \n",
       "\n",
       "     DateofHire  DateofTermination  Department  ManagerName  ManagerID  \\\n",
       "Sex                                                                      \n",
       "F           141                 45         141          141        136   \n",
       "M           108                 37         108          108        106   \n",
       "\n",
       "     RecruitmentSource  Absences  \n",
       "Sex                               \n",
       "F                  141       128  \n",
       "M                  108        96  "
      ]
     },
     "execution_count": 18,
     "metadata": {},
     "output_type": "execute_result"
    }
   ],
   "source": [
    "df.Sex.mode()[0]\n",
    "dfsex = df.groupby('Sex').count()\n",
    "dfsex\n",
    "# mode is not usefull"
   ]
  },
  {
   "cell_type": "code",
   "execution_count": 19,
   "metadata": {
    "scrolled": true
   },
   "outputs": [
    {
     "data": {
      "text/plain": [
       "Sex\n",
       "F     66265.426087\n",
       "M     69337.506329\n",
       "Name: Salary, dtype: float64"
      ]
     },
     "execution_count": 19,
     "metadata": {},
     "output_type": "execute_result"
    }
   ],
   "source": [
    "df2 = df.groupby('Sex')['Salary'].mean()\n",
    "df2\n",
    "# get the average salary by sex "
   ]
  },
  {
   "cell_type": "code",
   "execution_count": 20,
   "metadata": {},
   "outputs": [
    {
     "data": {
      "text/plain": [
       "67972.6626506024"
      ]
     },
     "execution_count": 20,
     "metadata": {},
     "output_type": "execute_result"
    }
   ],
   "source": [
    "salaryMean = df['Salary'].mean()\n",
    "salaryMean"
   ]
  },
  {
   "cell_type": "code",
   "execution_count": 21,
   "metadata": {},
   "outputs": [
    {
     "data": {
      "text/plain": [
       "141"
      ]
     },
     "execution_count": 21,
     "metadata": {},
     "output_type": "execute_result"
    }
   ],
   "source": [
    "len(df[df.Sex == 'F'])"
   ]
  },
  {
   "cell_type": "code",
   "execution_count": 22,
   "metadata": {},
   "outputs": [
    {
     "data": {
      "text/plain": [
       "0"
      ]
     },
     "execution_count": 22,
     "metadata": {},
     "output_type": "execute_result"
    }
   ],
   "source": [
    "len(df[df.Sex == 'M'])"
   ]
  },
  {
   "cell_type": "code",
   "execution_count": 23,
   "metadata": {},
   "outputs": [
    {
     "data": {
      "text/plain": [
       "EmpID                  int64\n",
       "Salary               float64\n",
       "PositionID             int64\n",
       "Position              object\n",
       "DOB                   object\n",
       "Sex                   string\n",
       "MaritalDesc           object\n",
       "RaceDesc              object\n",
       "DateofHire            object\n",
       "DateofTermination     object\n",
       "Department            object\n",
       "ManagerName           object\n",
       "ManagerID            float64\n",
       "RecruitmentSource     object\n",
       "Absences             float64\n",
       "dtype: object"
      ]
     },
     "execution_count": 23,
     "metadata": {},
     "output_type": "execute_result"
    }
   ],
   "source": [
    "df.dtypes"
   ]
  },
  {
   "cell_type": "code",
   "execution_count": 24,
   "metadata": {},
   "outputs": [],
   "source": [
    "df.Sex = np.where(df.Salary <=  66265, df.Sex.fillna('F'), df.Sex) # replace the null sex based on the salary average \n",
    "df.Sex = np.where(df.Salary > 66265, df.Sex.fillna('M'), df.Sex)"
   ]
  },
  {
   "cell_type": "code",
   "execution_count": 25,
   "metadata": {
    "scrolled": true
   },
   "outputs": [
    {
     "data": {
      "text/plain": [
       "EmpID                  0\n",
       "PositionID             0\n",
       "Position               0\n",
       "MaritalDesc            0\n",
       "RaceDesc               0\n",
       "DateofHire             0\n",
       "Department             0\n",
       "ManagerName            0\n",
       "RecruitmentSource      0\n",
       "Sex                    7\n",
       "ManagerID              8\n",
       "DOB                   31\n",
       "Absences              31\n",
       "Salary                62\n",
       "DateofTermination    207\n",
       "dtype: int64"
      ]
     },
     "execution_count": 25,
     "metadata": {},
     "output_type": "execute_result"
    }
   ],
   "source": [
    "df.isnull().sum().sort_values()"
   ]
  },
  {
   "cell_type": "code",
   "execution_count": 26,
   "metadata": {},
   "outputs": [
    {
     "data": {
      "text/plain": [
       "19"
      ]
     },
     "execution_count": 26,
     "metadata": {},
     "output_type": "execute_result"
    }
   ],
   "source": [
    "len(df[df.Sex == 'M']) "
   ]
  },
  {
   "cell_type": "markdown",
   "metadata": {},
   "source": [
    "# Salary "
   ]
  },
  {
   "cell_type": "code",
   "execution_count": 27,
   "metadata": {
    "scrolled": true
   },
   "outputs": [
    {
     "data": {
      "image/png": "[encoded data removed]",
      "text/plain": [
       "<Figure size 432x288 with 1 Axes>"
      ]
     },
     "metadata": {
      "needs_background": "light"
     },
     "output_type": "display_data"
    }
   ],
   "source": [
    "df['Salary'].plot(kind=\"hist\", title=\"Histogram of Salary\");"
   ]
  },
  {
   "cell_type": "code",
   "execution_count": 28,
   "metadata": {},
   "outputs": [],
   "source": [
    "\n",
    "#df.Salary = np.where(df.Sex == 'F', df.Salary.fillna(df2[0]), df.Salary)# replace the null salary based on the average salary for female  "
   ]
  },
  {
   "cell_type": "code",
   "execution_count": 29,
   "metadata": {},
   "outputs": [],
   "source": [
    "#df.Salary = np.where(df.Sex == 'M', df.Salary.fillna(df2[1]), df.Salary) #replace the null salary based on the average salary for male  "
   ]
  },
  {
   "cell_type": "code",
   "execution_count": 30,
   "metadata": {},
   "outputs": [],
   "source": [
    "# above line is not woking with male !! the M is not readable !!\n",
    "# so i will commet it and replace it average for all "
   ]
  },
  {
   "cell_type": "code",
   "execution_count": 31,
   "metadata": {},
   "outputs": [],
   "source": [
    "df.Salary = df.Salary.fillna(salaryMean)"
   ]
  },
  {
   "cell_type": "code",
   "execution_count": 32,
   "metadata": {},
   "outputs": [
    {
     "data": {
      "text/plain": [
       "0"
      ]
     },
     "execution_count": 32,
     "metadata": {},
     "output_type": "execute_result"
    }
   ],
   "source": [
    "df['Salary'].isnull().sum()"
   ]
  },
  {
   "cell_type": "code",
   "execution_count": 33,
   "metadata": {},
   "outputs": [
    {
     "data": {
      "text/plain": [
       "EmpID                  0\n",
       "Salary                 0\n",
       "PositionID             0\n",
       "Position               0\n",
       "MaritalDesc            0\n",
       "RaceDesc               0\n",
       "DateofHire             0\n",
       "Department             0\n",
       "ManagerName            0\n",
       "RecruitmentSource      0\n",
       "Sex                    7\n",
       "ManagerID              8\n",
       "DOB                   31\n",
       "Absences              31\n",
       "DateofTermination    207\n",
       "dtype: int64"
      ]
     },
     "execution_count": 33,
     "metadata": {},
     "output_type": "execute_result"
    }
   ],
   "source": [
    "df.isnull().sum().sort_values()"
   ]
  },
  {
   "cell_type": "code",
   "execution_count": 34,
   "metadata": {},
   "outputs": [
    {
     "data": {
      "image/png": "[encoded data removed]",
      "text/plain": [
       "<Figure size 432x288 with 1 Axes>"
      ]
     },
     "metadata": {
      "needs_background": "light"
     },
     "output_type": "display_data"
    }
   ],
   "source": [
    "df['Salary'].plot(kind=\"hist\", title=\"Histogram of Salary\");"
   ]
  },
  {
   "cell_type": "code",
   "execution_count": 64,
   "metadata": {},
   "outputs": [],
   "source": [
    "df.Sex = np.where(df.Salary <=  66265, df.Sex.fillna('F'), df.Sex) # replace sex again after fill the null salary\n",
    "df.Sex = np.where(df.Salary > 66265, df.Sex.fillna('M'), df.Sex) "
   ]
  },
  {
   "cell_type": "code",
   "execution_count": 65,
   "metadata": {
    "scrolled": true
   },
   "outputs": [
    {
     "data": {
      "text/plain": [
       "EmpID                  0\n",
       "Salary                 0\n",
       "PositionID             0\n",
       "Position               0\n",
       "DOB                    0\n",
       "Sex                    0\n",
       "MaritalDesc            0\n",
       "RaceDesc               0\n",
       "DateofHire             0\n",
       "Department             0\n",
       "ManagerName            0\n",
       "ManagerID              0\n",
       "RecruitmentSource      0\n",
       "Absences               0\n",
       "DateofTermination    207\n",
       "dtype: int64"
      ]
     },
     "execution_count": 65,
     "metadata": {},
     "output_type": "execute_result"
    }
   ],
   "source": [
    "df.isnull().sum().sort_values()"
   ]
  },
  {
   "cell_type": "code",
   "execution_count": 66,
   "metadata": {},
   "outputs": [],
   "source": [
    "#df.Salary = np.where(df.Sex == 'F', df.Salary.fillna(66265), df.Salary) # replace the salary again after fill the sex null values"
   ]
  },
  {
   "cell_type": "code",
   "execution_count": 67,
   "metadata": {},
   "outputs": [],
   "source": [
    "#df.Salary = np.where(df.Sex == 'M', df.Salary.fillna(69337), df.Salary)\n"
   ]
  },
  {
   "cell_type": "code",
   "execution_count": 68,
   "metadata": {},
   "outputs": [
    {
     "data": {
      "text/plain": [
       "26"
      ]
     },
     "execution_count": 68,
     "metadata": {},
     "output_type": "execute_result"
    }
   ],
   "source": [
    "len(df[df.Sex == 'M'])"
   ]
  },
  {
   "cell_type": "code",
   "execution_count": 69,
   "metadata": {},
   "outputs": [
    {
     "data": {
      "text/plain": [
       "177"
      ]
     },
     "execution_count": 69,
     "metadata": {},
     "output_type": "execute_result"
    }
   ],
   "source": [
    "len(df[df.Sex == 'F'])"
   ]
  },
  {
   "cell_type": "code",
   "execution_count": 70,
   "metadata": {},
   "outputs": [
    {
     "data": {
      "text/plain": [
       "EmpID                  0\n",
       "Salary                 0\n",
       "PositionID             0\n",
       "Position               0\n",
       "DOB                    0\n",
       "Sex                    0\n",
       "MaritalDesc            0\n",
       "RaceDesc               0\n",
       "DateofHire             0\n",
       "Department             0\n",
       "ManagerName            0\n",
       "ManagerID              0\n",
       "RecruitmentSource      0\n",
       "Absences               0\n",
       "DateofTermination    207\n",
       "dtype: int64"
      ]
     },
     "execution_count": 70,
     "metadata": {},
     "output_type": "execute_result"
    }
   ],
   "source": [
    "df.isnull().sum().sort_values()"
   ]
  },
  {
   "cell_type": "markdown",
   "metadata": {},
   "source": [
    "# Absences"
   ]
  },
  {
   "cell_type": "code",
   "execution_count": 71,
   "metadata": {},
   "outputs": [
    {
     "data": {
      "text/plain": [
       "10.128571428571425"
      ]
     },
     "execution_count": 71,
     "metadata": {},
     "output_type": "execute_result"
    }
   ],
   "source": [
    "abMean =df['Absences'].mean()\n",
    "abMean"
   ]
  },
  {
   "cell_type": "code",
   "execution_count": 72,
   "metadata": {},
   "outputs": [
    {
     "data": {
      "image/png": "[encoded data removed]",
      "text/plain": [
       "<Figure size 432x288 with 1 Axes>"
      ]
     },
     "metadata": {
      "needs_background": "light"
     },
     "output_type": "display_data"
    }
   ],
   "source": [
    "df['Absences'].plot(kind=\"hist\", title=\"Histogram of Absences\");"
   ]
  },
  {
   "cell_type": "code",
   "execution_count": 73,
   "metadata": {},
   "outputs": [],
   "source": [
    "df.Absences = df.Absences.fillna(abMean) # replace the absences with the avaerage"
   ]
  },
  {
   "cell_type": "code",
   "execution_count": 74,
   "metadata": {},
   "outputs": [
    {
     "data": {
      "image/png": "[encoded data removed]",
      "text/plain": [
       "<Figure size 432x288 with 1 Axes>"
      ]
     },
     "metadata": {
      "needs_background": "light"
     },
     "output_type": "display_data"
    }
   ],
   "source": [
    "df['Absences'].plot(kind=\"hist\", title=\"Histogram of Absences\");"
   ]
  },
  {
   "cell_type": "markdown",
   "metadata": {},
   "source": [
    "# Manager id "
   ]
  },
  {
   "cell_type": "code",
   "execution_count": 75,
   "metadata": {
    "scrolled": true
   },
   "outputs": [
    {
     "data": {
      "text/html": [
       "<div>\n",
       "<style scoped>\n",
       "    .dataframe tbody tr th:only-of-type {\n",
       "        vertical-align: middle;\n",
       "    }\n",
       "\n",
       "    .dataframe tbody tr th {\n",
       "        vertical-align: top;\n",
       "    }\n",
       "\n",
       "    .dataframe thead th {\n",
       "        text-align: right;\n",
       "    }\n",
       "</style>\n",
       "<table border=\"1\" class=\"dataframe\">\n",
       "  <thead>\n",
       "    <tr style=\"text-align: right;\">\n",
       "      <th></th>\n",
       "      <th>Department</th>\n",
       "      <th>ManagerID</th>\n",
       "      <th>counts</th>\n",
       "    </tr>\n",
       "  </thead>\n",
       "  <tbody>\n",
       "    <tr>\n",
       "      <th>0</th>\n",
       "      <td>Admin Offices</td>\n",
       "      <td>1.0</td>\n",
       "      <td>6</td>\n",
       "    </tr>\n",
       "    <tr>\n",
       "      <th>1</th>\n",
       "      <td>Admin Offices</td>\n",
       "      <td>2.0</td>\n",
       "      <td>1</td>\n",
       "    </tr>\n",
       "    <tr>\n",
       "      <th>2</th>\n",
       "      <td>Admin Offices</td>\n",
       "      <td>3.0</td>\n",
       "      <td>1</td>\n",
       "    </tr>\n",
       "    <tr>\n",
       "      <th>3</th>\n",
       "      <td>Admin Offices</td>\n",
       "      <td>9.0</td>\n",
       "      <td>1</td>\n",
       "    </tr>\n",
       "    <tr>\n",
       "      <th>4</th>\n",
       "      <td>Executive Office</td>\n",
       "      <td>9.0</td>\n",
       "      <td>1</td>\n",
       "    </tr>\n",
       "    <tr>\n",
       "      <th>5</th>\n",
       "      <td>IT/IS</td>\n",
       "      <td>2.0</td>\n",
       "      <td>1</td>\n",
       "    </tr>\n",
       "    <tr>\n",
       "      <th>6</th>\n",
       "      <td>IT/IS</td>\n",
       "      <td>4.0</td>\n",
       "      <td>17</td>\n",
       "    </tr>\n",
       "    <tr>\n",
       "      <th>7</th>\n",
       "      <td>IT/IS</td>\n",
       "      <td>5.0</td>\n",
       "      <td>6</td>\n",
       "    </tr>\n",
       "    <tr>\n",
       "      <th>8</th>\n",
       "      <td>IT/IS</td>\n",
       "      <td>6.0</td>\n",
       "      <td>4</td>\n",
       "    </tr>\n",
       "    <tr>\n",
       "      <th>9</th>\n",
       "      <td>IT/IS</td>\n",
       "      <td>7.0</td>\n",
       "      <td>14</td>\n",
       "    </tr>\n",
       "    <tr>\n",
       "      <th>10</th>\n",
       "      <td>IT/IS</td>\n",
       "      <td>13.0</td>\n",
       "      <td>8</td>\n",
       "    </tr>\n",
       "    <tr>\n",
       "      <th>11</th>\n",
       "      <td>Production</td>\n",
       "      <td>2.0</td>\n",
       "      <td>15</td>\n",
       "    </tr>\n",
       "    <tr>\n",
       "      <th>12</th>\n",
       "      <td>Production</td>\n",
       "      <td>11.0</td>\n",
       "      <td>21</td>\n",
       "    </tr>\n",
       "    <tr>\n",
       "      <th>13</th>\n",
       "      <td>Production</td>\n",
       "      <td>12.0</td>\n",
       "      <td>22</td>\n",
       "    </tr>\n",
       "    <tr>\n",
       "      <th>14</th>\n",
       "      <td>Production</td>\n",
       "      <td>14.0</td>\n",
       "      <td>21</td>\n",
       "    </tr>\n",
       "    <tr>\n",
       "      <th>15</th>\n",
       "      <td>Production</td>\n",
       "      <td>16.0</td>\n",
       "      <td>22</td>\n",
       "    </tr>\n",
       "    <tr>\n",
       "      <th>16</th>\n",
       "      <td>Production</td>\n",
       "      <td>18.0</td>\n",
       "      <td>22</td>\n",
       "    </tr>\n",
       "    <tr>\n",
       "      <th>17</th>\n",
       "      <td>Production</td>\n",
       "      <td>19.0</td>\n",
       "      <td>21</td>\n",
       "    </tr>\n",
       "    <tr>\n",
       "      <th>18</th>\n",
       "      <td>Production</td>\n",
       "      <td>20.0</td>\n",
       "      <td>30</td>\n",
       "    </tr>\n",
       "    <tr>\n",
       "      <th>19</th>\n",
       "      <td>Production</td>\n",
       "      <td>22.0</td>\n",
       "      <td>21</td>\n",
       "    </tr>\n",
       "    <tr>\n",
       "      <th>20</th>\n",
       "      <td>Production</td>\n",
       "      <td>30.0</td>\n",
       "      <td>1</td>\n",
       "    </tr>\n",
       "    <tr>\n",
       "      <th>21</th>\n",
       "      <td>Production</td>\n",
       "      <td>39.0</td>\n",
       "      <td>13</td>\n",
       "    </tr>\n",
       "    <tr>\n",
       "      <th>22</th>\n",
       "      <td>Sales</td>\n",
       "      <td>2.0</td>\n",
       "      <td>1</td>\n",
       "    </tr>\n",
       "    <tr>\n",
       "      <th>23</th>\n",
       "      <td>Sales</td>\n",
       "      <td>15.0</td>\n",
       "      <td>3</td>\n",
       "    </tr>\n",
       "    <tr>\n",
       "      <th>24</th>\n",
       "      <td>Sales</td>\n",
       "      <td>17.0</td>\n",
       "      <td>14</td>\n",
       "    </tr>\n",
       "    <tr>\n",
       "      <th>25</th>\n",
       "      <td>Sales</td>\n",
       "      <td>21.0</td>\n",
       "      <td>13</td>\n",
       "    </tr>\n",
       "    <tr>\n",
       "      <th>26</th>\n",
       "      <td>Software Engineering</td>\n",
       "      <td>2.0</td>\n",
       "      <td>1</td>\n",
       "    </tr>\n",
       "    <tr>\n",
       "      <th>27</th>\n",
       "      <td>Software Engineering</td>\n",
       "      <td>5.0</td>\n",
       "      <td>1</td>\n",
       "    </tr>\n",
       "    <tr>\n",
       "      <th>28</th>\n",
       "      <td>Software Engineering</td>\n",
       "      <td>10.0</td>\n",
       "      <td>9</td>\n",
       "    </tr>\n",
       "  </tbody>\n",
       "</table>\n",
       "</div>"
      ],
      "text/plain": [
       "              Department  ManagerID  counts\n",
       "0          Admin Offices        1.0       6\n",
       "1          Admin Offices        2.0       1\n",
       "2          Admin Offices        3.0       1\n",
       "3          Admin Offices        9.0       1\n",
       "4       Executive Office        9.0       1\n",
       "5                  IT/IS        2.0       1\n",
       "6                  IT/IS        4.0      17\n",
       "7                  IT/IS        5.0       6\n",
       "8                  IT/IS        6.0       4\n",
       "9                  IT/IS        7.0      14\n",
       "10                 IT/IS       13.0       8\n",
       "11     Production               2.0      15\n",
       "12     Production              11.0      21\n",
       "13     Production              12.0      22\n",
       "14     Production              14.0      21\n",
       "15     Production              16.0      22\n",
       "16     Production              18.0      22\n",
       "17     Production              19.0      21\n",
       "18     Production              20.0      30\n",
       "19     Production              22.0      21\n",
       "20     Production              30.0       1\n",
       "21     Production              39.0      13\n",
       "22                 Sales        2.0       1\n",
       "23                 Sales       15.0       3\n",
       "24                 Sales       17.0      14\n",
       "25                 Sales       21.0      13\n",
       "26  Software Engineering        2.0       1\n",
       "27  Software Engineering        5.0       1\n",
       "28  Software Engineering       10.0       9"
      ]
     },
     "execution_count": 75,
     "metadata": {},
     "output_type": "execute_result"
    }
   ],
   "source": [
    "df3 = df.groupby(['Department' , 'ManagerID']).size().reset_index(name='counts')\n",
    "df3"
   ]
  },
  {
   "cell_type": "code",
   "execution_count": 76,
   "metadata": {},
   "outputs": [
    {
     "data": {
      "image/png": "[encoded data removed]",
      "text/plain": [
       "<Figure size 432x288 with 1 Axes>"
      ]
     },
     "metadata": {
      "needs_background": "light"
     },
     "output_type": "display_data"
    }
   ],
   "source": [
    "df['ManagerID'].plot(kind=\"hist\", title=\"Histogram of ManagerID\");"
   ]
  },
  {
   "cell_type": "code",
   "execution_count": 77,
   "metadata": {},
   "outputs": [
    {
     "data": {
      "text/plain": [
       "0    20.0\n",
       "dtype: float64"
      ]
     },
     "execution_count": 77,
     "metadata": {},
     "output_type": "execute_result"
    }
   ],
   "source": [
    "managerMode =df['ManagerID'].mode()\n",
    "managerMode"
   ]
  },
  {
   "cell_type": "code",
   "execution_count": 78,
   "metadata": {},
   "outputs": [],
   "source": [
    "df.ManagerID = df.ManagerID.fillna(20) # replace the manager id with most frequrnt manager id "
   ]
  },
  {
   "cell_type": "code",
   "execution_count": 79,
   "metadata": {
    "scrolled": true
   },
   "outputs": [
    {
     "data": {
      "text/plain": [
       "EmpID                  0\n",
       "Salary                 0\n",
       "PositionID             0\n",
       "Position               0\n",
       "DOB                    0\n",
       "Sex                    0\n",
       "MaritalDesc            0\n",
       "RaceDesc               0\n",
       "DateofHire             0\n",
       "Department             0\n",
       "ManagerName            0\n",
       "ManagerID              0\n",
       "RecruitmentSource      0\n",
       "Absences               0\n",
       "DateofTermination    207\n",
       "dtype: int64"
      ]
     },
     "execution_count": 79,
     "metadata": {},
     "output_type": "execute_result"
    }
   ],
   "source": [
    "df.isnull().sum().sort_values()"
   ]
  },
  {
   "cell_type": "code",
   "execution_count": 80,
   "metadata": {},
   "outputs": [
    {
     "data": {
      "image/png": "[encoded data removed]",
      "text/plain": [
       "<Figure size 432x288 with 1 Axes>"
      ]
     },
     "metadata": {
      "needs_background": "light"
     },
     "output_type": "display_data"
    }
   ],
   "source": [
    "df['ManagerID'].plot(kind=\"hist\", title=\"Histogram of ManagerID\");"
   ]
  },
  {
   "cell_type": "markdown",
   "metadata": {},
   "source": [
    "# DOB"
   ]
  },
  {
   "cell_type": "code",
   "execution_count": 81,
   "metadata": {},
   "outputs": [],
   "source": [
    "df['DOB'] = pd.to_datetime(df['DOB']) #  convert DOB to date time"
   ]
  },
  {
   "cell_type": "code",
   "execution_count": 82,
   "metadata": {},
   "outputs": [
    {
     "data": {
      "text/plain": [
       "EmpID                         int64\n",
       "Salary                      float64\n",
       "PositionID                    int64\n",
       "Position                     object\n",
       "DOB                  datetime64[ns]\n",
       "Sex                          object\n",
       "MaritalDesc                  object\n",
       "RaceDesc                     object\n",
       "DateofHire                   object\n",
       "DateofTermination            object\n",
       "Department                   object\n",
       "ManagerName                  object\n",
       "ManagerID                   float64\n",
       "RecruitmentSource            object\n",
       "Absences                    float64\n",
       "dtype: object"
      ]
     },
     "execution_count": 82,
     "metadata": {},
     "output_type": "execute_result"
    }
   ],
   "source": [
    "df.dtypes"
   ]
  },
  {
   "cell_type": "code",
   "execution_count": 83,
   "metadata": {},
   "outputs": [
    {
     "data": {
      "text/plain": [
       "0      1983\n",
       "1      1975\n",
       "2      1988\n",
       "3      1985\n",
       "4      1989\n",
       "       ... \n",
       "306    1985\n",
       "307    1985\n",
       "308    1985\n",
       "309    1979\n",
       "310    1978\n",
       "Name: DOB, Length: 311, dtype: int64"
      ]
     },
     "execution_count": 83,
     "metadata": {},
     "output_type": "execute_result"
    }
   ],
   "source": [
    "dfYear = df['DOB'].dt.year # get year \n",
    "dfYear"
   ]
  },
  {
   "cell_type": "code",
   "execution_count": 84,
   "metadata": {},
   "outputs": [
    {
     "data": {
      "text/plain": [
       "1997.7009646302251"
      ]
     },
     "execution_count": 84,
     "metadata": {},
     "output_type": "execute_result"
    }
   ],
   "source": [
    "yearMean = dfYear.mean() \n",
    "yearMean"
   ]
  },
  {
   "cell_type": "code",
   "execution_count": 85,
   "metadata": {},
   "outputs": [
    {
     "data": {
      "text/plain": [
       "0    1985\n",
       "dtype: int64"
      ]
     },
     "execution_count": 85,
     "metadata": {},
     "output_type": "execute_result"
    }
   ],
   "source": [
    "yearMode = dfYear.mode()\n",
    "yearMode"
   ]
  },
  {
   "cell_type": "code",
   "execution_count": 86,
   "metadata": {},
   "outputs": [
    {
     "data": {
      "text/plain": [
       "2071"
      ]
     },
     "execution_count": 86,
     "metadata": {},
     "output_type": "execute_result"
    }
   ],
   "source": [
    "yearMax = dfYear.max()\n",
    "yearMax   ## invalid date "
   ]
  },
  {
   "cell_type": "code",
   "execution_count": 87,
   "metadata": {},
   "outputs": [],
   "source": [
    "df.loc[df['DOB'].dt.year == 2072, 'DOB']  = datetime(1972,7,1)\n"
   ]
  },
  {
   "cell_type": "code",
   "execution_count": 88,
   "metadata": {},
   "outputs": [
    {
     "data": {
      "text/html": [
       "<div>\n",
       "<style scoped>\n",
       "    .dataframe tbody tr th:only-of-type {\n",
       "        vertical-align: middle;\n",
       "    }\n",
       "\n",
       "    .dataframe tbody tr th {\n",
       "        vertical-align: top;\n",
       "    }\n",
       "\n",
       "    .dataframe thead th {\n",
       "        text-align: right;\n",
       "    }\n",
       "</style>\n",
       "<table border=\"1\" class=\"dataframe\">\n",
       "  <thead>\n",
       "    <tr style=\"text-align: right;\">\n",
       "      <th></th>\n",
       "      <th>EmpID</th>\n",
       "      <th>Salary</th>\n",
       "      <th>PositionID</th>\n",
       "      <th>Position</th>\n",
       "      <th>DOB</th>\n",
       "      <th>Sex</th>\n",
       "      <th>MaritalDesc</th>\n",
       "      <th>RaceDesc</th>\n",
       "      <th>DateofHire</th>\n",
       "      <th>DateofTermination</th>\n",
       "      <th>Department</th>\n",
       "      <th>ManagerName</th>\n",
       "      <th>ManagerID</th>\n",
       "      <th>RecruitmentSource</th>\n",
       "      <th>Absences</th>\n",
       "    </tr>\n",
       "  </thead>\n",
       "  <tbody>\n",
       "  </tbody>\n",
       "</table>\n",
       "</div>"
      ],
      "text/plain": [
       "Empty DataFrame\n",
       "Columns: [EmpID, Salary, PositionID, Position, DOB, Sex, MaritalDesc, RaceDesc, DateofHire, DateofTermination, Department, ManagerName, ManagerID, RecruitmentSource, Absences]\n",
       "Index: []"
      ]
     },
     "execution_count": 88,
     "metadata": {},
     "output_type": "execute_result"
    }
   ],
   "source": [
    "df[df.DOB.dt.year == 2072]"
   ]
  },
  {
   "cell_type": "code",
   "execution_count": 89,
   "metadata": {},
   "outputs": [
    {
     "data": {
      "text/plain": [
       "2071"
      ]
     },
     "execution_count": 89,
     "metadata": {},
     "output_type": "execute_result"
    }
   ],
   "source": [
    "dfYear2 = df['DOB'].dt.year\n",
    "dfYear2\n",
    "yearMax2 = dfYear2.max()\n",
    "yearMax2   ## invalid date .. the convert did not work as expected "
   ]
  },
  {
   "cell_type": "code",
   "execution_count": 90,
   "metadata": {},
   "outputs": [
    {
     "data": {
      "text/plain": [
       "1985.0"
      ]
     },
     "execution_count": 90,
     "metadata": {},
     "output_type": "execute_result"
    }
   ],
   "source": [
    "yearMedian = dfYear2.median()  # get the median because the mean is not usefull\n",
    "yearMedian"
   ]
  },
  {
   "cell_type": "code",
   "execution_count": 91,
   "metadata": {},
   "outputs": [],
   "source": [
    "\n",
    "df.DOB = df.DOB.fillna(datetime(1985,7,1)) # fill with median year 1985"
   ]
  },
  {
   "cell_type": "code",
   "execution_count": 92,
   "metadata": {},
   "outputs": [
    {
     "data": {
      "text/plain": [
       "EmpID                  0\n",
       "Salary                 0\n",
       "PositionID             0\n",
       "Position               0\n",
       "DOB                    0\n",
       "Sex                    0\n",
       "MaritalDesc            0\n",
       "RaceDesc               0\n",
       "DateofHire             0\n",
       "Department             0\n",
       "ManagerName            0\n",
       "ManagerID              0\n",
       "RecruitmentSource      0\n",
       "Absences               0\n",
       "DateofTermination    207\n",
       "dtype: int64"
      ]
     },
     "execution_count": 92,
     "metadata": {},
     "output_type": "execute_result"
    }
   ],
   "source": [
    "df.isnull().sum().sort_values()"
   ]
  }
 ],
 "metadata": {
  "kernelspec": {
   "display_name": "Python 3",
   "language": "python",
   "name": "python3"
  },
  "language_info": {
   "codemirror_mode": {
    "name": "ipython",
    "version": 3
   },
   "file_extension": ".py",
   "mimetype": "text/x-python",
   "name": "python",
   "nbconvert_exporter": "python",
   "pygments_lexer": "ipython3",
   "version": "3.7.6"
  }
 },
 "nbformat": 4,
 "nbformat_minor": 5
}
